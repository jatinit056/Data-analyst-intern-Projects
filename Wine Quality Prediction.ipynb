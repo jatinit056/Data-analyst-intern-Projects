{
 "cells": [
  {
   "cell_type": "code",
   "execution_count": 28,
   "id": "89fd9aa2",
   "metadata": {},
   "outputs": [],
   "source": [
    "import pandas as pd\n",
    "import numpy as np\n",
    "import seaborn as sns\n",
    "import matplotlib.pyplot as plt\n",
    "from sklearn.model_selection import train_test_split\n",
    "from sklearn.ensemble import RandomForestClassifier\n",
    "from sklearn.linear_model import SGDClassifier\n",
    "from sklearn.svm import SVC\n",
    "from sklearn.metrics import classification_report, confusion_matrix"
   ]
  },
  {
   "cell_type": "code",
   "execution_count": null,
   "id": "fcf65a13",
   "metadata": {},
   "outputs": [],
   "source": [
    "# Load the dataset\n",
    "data = pd.read_csv('WineQT.csv')"
   ]
  },
  {
   "cell_type": "code",
   "execution_count": null,
   "id": "c895c0fb",
   "metadata": {},
   "outputs": [],
   "source": [
    "# Display the first few rows of the dataset\n",
    "print(data.head())"
   ]
  },
  {
   "cell_type": "code",
   "execution_count": null,
   "id": "fca77117",
   "metadata": {},
   "outputs": [],
   "source": [
    "# Data preprocessing\n",
    "# Check for missing values\n",
    "print(data.isnull().sum())\n"
   ]
  },
  {
   "cell_type": "code",
   "execution_count": null,
   "id": "14753488",
   "metadata": {},
   "outputs": [],
   "source": [
    "# Visualizing the distribution of wine quality\n",
    "sns.countplot(x='quality', data=data)\n",
    "plt.title('Distribution of Wine Quality')\n",
    "plt.show()"
   ]
  },
  {
   "cell_type": "code",
   "execution_count": 26,
   "id": "5cff086b",
   "metadata": {},
   "outputs": [],
   "source": [
    "# Splitting the dataset into features and target variable\n",
    "X = data.drop('quality', axis=1)  # Features\n",
    "y = data['quality']  # Target variable"
   ]
  },
  {
   "cell_type": "code",
   "execution_count": 27,
   "id": "99834598",
   "metadata": {},
   "outputs": [],
   "source": [
    "\n",
    "# Splitting the dataset into training and testing sets\n",
    "X_train, X_test, y_train, y_test = train_test_split(X, y, test_size=0.2, random_state=42)"
   ]
  },
  {
   "cell_type": "code",
   "execution_count": null,
   "id": "eead7857",
   "metadata": {},
   "outputs": [],
   "source": [
    "# **Random Forest Classifier**\n",
    "rf_model = RandomForestClassifier(n_estimators=100, random_state=42)\n",
    "rf_model.fit(X_train, y_train)\n",
    "rf_predictions = rf_model.predict(X_test)\n"
   ]
  },
  {
   "cell_type": "code",
   "execution_count": null,
   "id": "0eb7a54c",
   "metadata": {},
   "outputs": [],
   "source": [
    "# **Stochastic Gradient Descent Classifier**\n",
    "sgd_model = SGDClassifier(max_iter=1000, tol=1e-3)\n",
    "sgd_model.fit(X_train, y_train)\n",
    "sgd_predictions = sgd_model.predict(X_test)"
   ]
  },
  {
   "cell_type": "code",
   "execution_count": null,
   "id": "ca8efb86",
   "metadata": {},
   "outputs": [],
   "source": [
    "# **Support Vector Classifier**\n",
    "svc_model = SVC(kernel='linear')\n",
    "svc_model.fit(X_train, y_train)\n",
    "svc_predictions = svc_model.predict(X_test)"
   ]
  },
  {
   "cell_type": "code",
   "execution_count": null,
   "id": "24c905e6",
   "metadata": {},
   "outputs": [],
   "source": [
    "# Evaluating the models\n",
    "print(\"Random Forest Classification Report:\\n\", classification_report(y_test, rf_predictions))\n",
    "print(\"SGD Classification Report:\\n\", classification_report(y_test, sgd_predictions))\n",
    "print(\"SVC Classification Report:\\n\", classification_report(y_test, svc_predictions))"
   ]
  },
  {
   "cell_type": "code",
   "execution_count": null,
   "id": "d0b32731",
   "metadata": {},
   "outputs": [],
   "source": [
    "# Confusion Matrix for Random Forest\n",
    "sns.heatmap(confusion_matrix(y_test, rf_predictions), annot=True, fmt='d')\n",
    "plt.title('Random Forest Confusion Matrix')\n",
    "plt.xlabel('Predicted')\n",
    "plt.ylabel('Actual')\n",
    "plt.show()"
   ]
  }
 ],
 "metadata": {
  "kernelspec": {
   "display_name": "Python 3 (ipykernel)",
   "language": "python",
   "name": "python3"
  },
  "language_info": {
   "codemirror_mode": {
    "name": "ipython",
    "version": 3
   },
   "file_extension": ".py",
   "mimetype": "text/x-python",
   "name": "python",
   "nbconvert_exporter": "python",
   "pygments_lexer": "ipython3",
   "version": "3.11.5"
  }
 },
 "nbformat": 4,
 "nbformat_minor": 5
}
